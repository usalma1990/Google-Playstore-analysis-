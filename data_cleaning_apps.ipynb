{
 "cells": [
  {
   "cell_type": "code",
   "execution_count": 1,
   "id": "4918d8b9",
   "metadata": {},
   "outputs": [],
   "source": [
    "#import necessary packages \n",
    "import pandas as pd\n",
    "import numpy as np \n",
    "import warnings\n",
    "warnings.filterwarnings('ignore')"
   ]
  },
  {
   "cell_type": "code",
   "execution_count": 2,
   "id": "c2955fe8",
   "metadata": {},
   "outputs": [],
   "source": [
    "#Import the data\n",
    "df = pd.read_csv(\"playstore_apps.csv\",index_col='App')\n"
   ]
  },
  {
   "cell_type": "code",
   "execution_count": 3,
   "id": "5e47134f",
   "metadata": {},
   "outputs": [
    {
     "data": {
      "text/html": [
       "<div>\n",
       "<style scoped>\n",
       "    .dataframe tbody tr th:only-of-type {\n",
       "        vertical-align: middle;\n",
       "    }\n",
       "\n",
       "    .dataframe tbody tr th {\n",
       "        vertical-align: top;\n",
       "    }\n",
       "\n",
       "    .dataframe thead th {\n",
       "        text-align: right;\n",
       "    }\n",
       "</style>\n",
       "<table border=\"1\" class=\"dataframe\">\n",
       "  <thead>\n",
       "    <tr style=\"text-align: right;\">\n",
       "      <th></th>\n",
       "      <th>Category</th>\n",
       "      <th>Rating</th>\n",
       "      <th>Reviews</th>\n",
       "      <th>Size</th>\n",
       "      <th>Installs</th>\n",
       "      <th>Type</th>\n",
       "      <th>Price</th>\n",
       "      <th>Content Rating</th>\n",
       "      <th>Genres</th>\n",
       "      <th>Last Updated</th>\n",
       "      <th>Current Ver</th>\n",
       "      <th>Android Ver</th>\n",
       "    </tr>\n",
       "    <tr>\n",
       "      <th>App</th>\n",
       "      <th></th>\n",
       "      <th></th>\n",
       "      <th></th>\n",
       "      <th></th>\n",
       "      <th></th>\n",
       "      <th></th>\n",
       "      <th></th>\n",
       "      <th></th>\n",
       "      <th></th>\n",
       "      <th></th>\n",
       "      <th></th>\n",
       "      <th></th>\n",
       "    </tr>\n",
       "  </thead>\n",
       "  <tbody>\n",
       "    <tr>\n",
       "      <th>Photo Editor &amp; Candy Camera &amp; Grid &amp; ScrapBook</th>\n",
       "      <td>ART_AND_DESIGN</td>\n",
       "      <td>4.1</td>\n",
       "      <td>159.0</td>\n",
       "      <td>19M</td>\n",
       "      <td>10000.0</td>\n",
       "      <td>Free</td>\n",
       "      <td>0.0</td>\n",
       "      <td>Everyone</td>\n",
       "      <td>Art &amp; Design</td>\n",
       "      <td>7/1/2018</td>\n",
       "      <td>1.0.0</td>\n",
       "      <td>4.0.3 and up</td>\n",
       "    </tr>\n",
       "    <tr>\n",
       "      <th>Coloring book moana</th>\n",
       "      <td>ART_AND_DESIGN</td>\n",
       "      <td>3.9</td>\n",
       "      <td>967.0</td>\n",
       "      <td>14M</td>\n",
       "      <td>500000.0</td>\n",
       "      <td>Free</td>\n",
       "      <td>0.0</td>\n",
       "      <td>Everyone</td>\n",
       "      <td>Art &amp; Design;Pretend Play</td>\n",
       "      <td>15-01-2018</td>\n",
       "      <td>2.0.0</td>\n",
       "      <td>4.0.3 and up</td>\n",
       "    </tr>\n",
       "    <tr>\n",
       "      <th>U Launcher Lite – FREE Live Cool Themes, Hide Apps</th>\n",
       "      <td>ART_AND_DESIGN</td>\n",
       "      <td>4.7</td>\n",
       "      <td>87510.0</td>\n",
       "      <td>8.7M</td>\n",
       "      <td>5000000.0</td>\n",
       "      <td>Free</td>\n",
       "      <td>0.0</td>\n",
       "      <td>Everyone</td>\n",
       "      <td>Art &amp; Design</td>\n",
       "      <td>1/8/2018</td>\n",
       "      <td>1.2.4</td>\n",
       "      <td>4.0.3 and up</td>\n",
       "    </tr>\n",
       "    <tr>\n",
       "      <th>Sketch - Draw &amp; Paint</th>\n",
       "      <td>ART_AND_DESIGN</td>\n",
       "      <td>4.5</td>\n",
       "      <td>215644.0</td>\n",
       "      <td>25M</td>\n",
       "      <td>50000000.0</td>\n",
       "      <td>Free</td>\n",
       "      <td>0.0</td>\n",
       "      <td>Teen</td>\n",
       "      <td>Art &amp; Design</td>\n",
       "      <td>8/6/2018</td>\n",
       "      <td>Varies with device</td>\n",
       "      <td>4.2 and up</td>\n",
       "    </tr>\n",
       "    <tr>\n",
       "      <th>Pixel Draw - Number Art Coloring Book</th>\n",
       "      <td>ART_AND_DESIGN</td>\n",
       "      <td>4.3</td>\n",
       "      <td>967.0</td>\n",
       "      <td>2.8M</td>\n",
       "      <td>100000.0</td>\n",
       "      <td>Free</td>\n",
       "      <td>0.0</td>\n",
       "      <td>Everyone</td>\n",
       "      <td>Art &amp; Design;Creativity</td>\n",
       "      <td>20-06-2018</td>\n",
       "      <td>1.1</td>\n",
       "      <td>4.4 and up</td>\n",
       "    </tr>\n",
       "  </tbody>\n",
       "</table>\n",
       "</div>"
      ],
      "text/plain": [
       "                                                          Category  Rating  \\\n",
       "App                                                                          \n",
       "Photo Editor & Candy Camera & Grid & ScrapBook      ART_AND_DESIGN     4.1   \n",
       "Coloring book moana                                 ART_AND_DESIGN     3.9   \n",
       "U Launcher Lite – FREE Live Cool Themes, Hide Apps  ART_AND_DESIGN     4.7   \n",
       "Sketch - Draw & Paint                               ART_AND_DESIGN     4.5   \n",
       "Pixel Draw - Number Art Coloring Book               ART_AND_DESIGN     4.3   \n",
       "\n",
       "                                                     Reviews  Size  \\\n",
       "App                                                                  \n",
       "Photo Editor & Candy Camera & Grid & ScrapBook         159.0   19M   \n",
       "Coloring book moana                                    967.0   14M   \n",
       "U Launcher Lite – FREE Live Cool Themes, Hide Apps   87510.0  8.7M   \n",
       "Sketch - Draw & Paint                               215644.0   25M   \n",
       "Pixel Draw - Number Art Coloring Book                  967.0  2.8M   \n",
       "\n",
       "                                                      Installs  Type  Price  \\\n",
       "App                                                                           \n",
       "Photo Editor & Candy Camera & Grid & ScrapBook         10000.0  Free    0.0   \n",
       "Coloring book moana                                   500000.0  Free    0.0   \n",
       "U Launcher Lite – FREE Live Cool Themes, Hide Apps   5000000.0  Free    0.0   \n",
       "Sketch - Draw & Paint                               50000000.0  Free    0.0   \n",
       "Pixel Draw - Number Art Coloring Book                 100000.0  Free    0.0   \n",
       "\n",
       "                                                   Content Rating  \\\n",
       "App                                                                 \n",
       "Photo Editor & Candy Camera & Grid & ScrapBook           Everyone   \n",
       "Coloring book moana                                      Everyone   \n",
       "U Launcher Lite – FREE Live Cool Themes, Hide Apps       Everyone   \n",
       "Sketch - Draw & Paint                                        Teen   \n",
       "Pixel Draw - Number Art Coloring Book                    Everyone   \n",
       "\n",
       "                                                                       Genres  \\\n",
       "App                                                                             \n",
       "Photo Editor & Candy Camera & Grid & ScrapBook                   Art & Design   \n",
       "Coloring book moana                                 Art & Design;Pretend Play   \n",
       "U Launcher Lite – FREE Live Cool Themes, Hide Apps               Art & Design   \n",
       "Sketch - Draw & Paint                                            Art & Design   \n",
       "Pixel Draw - Number Art Coloring Book                 Art & Design;Creativity   \n",
       "\n",
       "                                                   Last Updated  \\\n",
       "App                                                               \n",
       "Photo Editor & Candy Camera & Grid & ScrapBook         7/1/2018   \n",
       "Coloring book moana                                  15-01-2018   \n",
       "U Launcher Lite – FREE Live Cool Themes, Hide Apps     1/8/2018   \n",
       "Sketch - Draw & Paint                                  8/6/2018   \n",
       "Pixel Draw - Number Art Coloring Book                20-06-2018   \n",
       "\n",
       "                                                           Current Ver  \\\n",
       "App                                                                      \n",
       "Photo Editor & Candy Camera & Grid & ScrapBook                   1.0.0   \n",
       "Coloring book moana                                              2.0.0   \n",
       "U Launcher Lite – FREE Live Cool Themes, Hide Apps               1.2.4   \n",
       "Sketch - Draw & Paint                               Varies with device   \n",
       "Pixel Draw - Number Art Coloring Book                              1.1   \n",
       "\n",
       "                                                     Android Ver  \n",
       "App                                                               \n",
       "Photo Editor & Candy Camera & Grid & ScrapBook      4.0.3 and up  \n",
       "Coloring book moana                                 4.0.3 and up  \n",
       "U Launcher Lite – FREE Live Cool Themes, Hide Apps  4.0.3 and up  \n",
       "Sketch - Draw & Paint                                 4.2 and up  \n",
       "Pixel Draw - Number Art Coloring Book                 4.4 and up  "
      ]
     },
     "execution_count": 3,
     "metadata": {},
     "output_type": "execute_result"
    }
   ],
   "source": [
    "df.head()"
   ]
  },
  {
   "cell_type": "code",
   "execution_count": 4,
   "id": "b2b3b5b3",
   "metadata": {},
   "outputs": [
    {
     "data": {
      "text/plain": [
       "(10841, 12)"
      ]
     },
     "execution_count": 4,
     "metadata": {},
     "output_type": "execute_result"
    }
   ],
   "source": [
    "df.shape"
   ]
  },
  {
   "cell_type": "code",
   "execution_count": 5,
   "id": "494f1059",
   "metadata": {},
   "outputs": [
    {
     "name": "stdout",
     "output_type": "stream",
     "text": [
      "<class 'pandas.core.frame.DataFrame'>\n",
      "Index: 10841 entries, Photo Editor & Candy Camera & Grid & ScrapBook to iHoroscope - 2018 Daily Horoscope & Astrology\n",
      "Data columns (total 12 columns):\n",
      " #   Column          Non-Null Count  Dtype  \n",
      "---  ------          --------------  -----  \n",
      " 0   Category        10841 non-null  object \n",
      " 1   Rating          9367 non-null   float64\n",
      " 2   Reviews         10840 non-null  float64\n",
      " 3   Size            10841 non-null  object \n",
      " 4   Installs        10840 non-null  float64\n",
      " 5   Type            10840 non-null  object \n",
      " 6   Price           10840 non-null  float64\n",
      " 7   Content Rating  10840 non-null  object \n",
      " 8   Genres          10841 non-null  object \n",
      " 9   Last Updated    10840 non-null  object \n",
      " 10  Current Ver     10833 non-null  object \n",
      " 11  Android Ver     10838 non-null  object \n",
      "dtypes: float64(4), object(8)\n",
      "memory usage: 1.1+ MB\n"
     ]
    }
   ],
   "source": [
    "df.info()"
   ]
  },
  {
   "cell_type": "code",
   "execution_count": 6,
   "id": "38c4ceac",
   "metadata": {},
   "outputs": [
    {
     "data": {
      "text/plain": [
       "Category             0\n",
       "Rating            1474\n",
       "Reviews              1\n",
       "Size                 0\n",
       "Installs             1\n",
       "Type                 1\n",
       "Price                1\n",
       "Content Rating       1\n",
       "Genres               0\n",
       "Last Updated         1\n",
       "Current Ver          8\n",
       "Android Ver          3\n",
       "dtype: int64"
      ]
     },
     "execution_count": 6,
     "metadata": {},
     "output_type": "execute_result"
    }
   ],
   "source": [
    "#identifying missing values \n",
    "df.isna().sum()"
   ]
  },
  {
   "cell_type": "markdown",
   "id": "fed1b6c5",
   "metadata": {},
   "source": [
    "#observation : rating has 1474 missing values, Current Ver has 8 and Android Ver has 3 missing values \n",
    "#Reviews,Installs,Type,Price, Content Rating, Last Updated all have 1 missing value each            "
   ]
  },
  {
   "cell_type": "code",
   "execution_count": 7,
   "id": "15c3c46b",
   "metadata": {},
   "outputs": [],
   "source": [
    "#Subtask 1 : Remove duplicate rows \n",
    "df.drop_duplicates(keep=False,inplace=True)"
   ]
  },
  {
   "cell_type": "code",
   "execution_count": 8,
   "id": "d2c49a53",
   "metadata": {},
   "outputs": [
    {
     "data": {
      "text/plain": [
       "(9930, 12)"
      ]
     },
     "execution_count": 8,
     "metadata": {},
     "output_type": "execute_result"
    }
   ],
   "source": [
    "df.shape"
   ]
  },
  {
   "cell_type": "code",
   "execution_count": 9,
   "id": "997eebd2",
   "metadata": {},
   "outputs": [
    {
     "data": {
      "text/plain": [
       "0"
      ]
     },
     "execution_count": 9,
     "metadata": {},
     "output_type": "execute_result"
    }
   ],
   "source": [
    "#Ensure no duplicates are present \n",
    "len(df)-len(df.drop_duplicates())"
   ]
  },
  {
   "cell_type": "code",
   "execution_count": 10,
   "id": "eeead21a",
   "metadata": {},
   "outputs": [
    {
     "name": "stdout",
     "output_type": "stream",
     "text": [
      "<class 'pandas.core.frame.DataFrame'>\n",
      "Index: 9930 entries, Photo Editor & Candy Camera & Grid & ScrapBook to iHoroscope - 2018 Daily Horoscope & Astrology\n",
      "Data columns (total 12 columns):\n",
      " #   Column          Non-Null Count  Dtype  \n",
      "---  ------          --------------  -----  \n",
      " 0   Category        9930 non-null   object \n",
      " 1   Rating          8487 non-null   float64\n",
      " 2   Reviews         9929 non-null   float64\n",
      " 3   Size            9930 non-null   object \n",
      " 4   Installs        9929 non-null   float64\n",
      " 5   Type            9929 non-null   object \n",
      " 6   Price           9929 non-null   float64\n",
      " 7   Content Rating  9929 non-null   object \n",
      " 8   Genres          9930 non-null   object \n",
      " 9   Last Updated    9929 non-null   object \n",
      " 10  Current Ver     9922 non-null   object \n",
      " 11  Android Ver     9927 non-null   object \n",
      "dtypes: float64(4), object(8)\n",
      "memory usage: 1008.5+ KB\n"
     ]
    }
   ],
   "source": [
    "df.info()"
   ]
  },
  {
   "cell_type": "code",
   "execution_count": 11,
   "id": "0f88e041",
   "metadata": {},
   "outputs": [],
   "source": [
    "#Subtask2: Remove irrelevant values from each column if any:"
   ]
  },
  {
   "cell_type": "code",
   "execution_count": 12,
   "id": "0222754f",
   "metadata": {},
   "outputs": [
    {
     "data": {
      "text/plain": [
       "Index(['Category', 'Rating', 'Reviews', 'Size', 'Installs', 'Type', 'Price',\n",
       "       'Content Rating', 'Genres', 'Last Updated', 'Current Ver',\n",
       "       'Android Ver'],\n",
       "      dtype='object')"
      ]
     },
     "execution_count": 12,
     "metadata": {},
     "output_type": "execute_result"
    }
   ],
   "source": [
    "df.columns"
   ]
  },
  {
   "cell_type": "code",
   "execution_count": 13,
   "id": "ae8f4419",
   "metadata": {},
   "outputs": [
    {
     "data": {
      "text/plain": [
       "Category          1\n",
       "Rating            1\n",
       "Reviews           1\n",
       "Size              1\n",
       "Installs          1\n",
       "Type              1\n",
       "Price             1\n",
       "Content Rating    1\n",
       "Genres            1\n",
       "Last Updated      1\n",
       "Current Ver       1\n",
       "Android Ver       1\n",
       "dtype: int64"
      ]
     },
     "execution_count": 13,
     "metadata": {},
     "output_type": "execute_result"
    }
   ],
   "source": [
    "df.columns.value_counts()"
   ]
  },
  {
   "cell_type": "code",
   "execution_count": 14,
   "id": "a5ffcdd5",
   "metadata": {},
   "outputs": [
    {
     "name": "stdout",
     "output_type": "stream",
     "text": [
      "['ART_AND_DESIGN' 'AUTO_AND_VEHICLES' 'BEAUTY' 'BOOKS_AND_REFERENCE'\n",
      " 'BUSINESS' 'COMICS' 'COMMUNICATION' 'DATING' 'EDUCATION' 'ENTERTAINMENT'\n",
      " 'EVENTS' 'FINANCE' 'FOOD_AND_DRINK' 'HEALTH_AND_FITNESS' 'HOUSE_AND_HOME'\n",
      " 'LIBRARIES_AND_DEMO' 'LIFESTYLE' 'GAME' 'FAMILY' 'MEDICAL' 'SOCIAL'\n",
      " 'SHOPPING' 'PHOTOGRAPHY' 'SPORTS' 'TRAVEL_AND_LOCAL' 'TOOLS'\n",
      " 'PERSONALIZATION' 'PRODUCTIVITY' 'PARENTING' 'WEATHER' 'VIDEO_PLAYERS'\n",
      " 'NEWS_AND_MAGAZINES' 'MAPS_AND_NAVIGATION' '1.9']\n"
     ]
    }
   ],
   "source": [
    "print(df['Category'].unique())"
   ]
  },
  {
   "cell_type": "code",
   "execution_count": 15,
   "id": "5ce2ce3f",
   "metadata": {},
   "outputs": [
    {
     "name": "stdout",
     "output_type": "stream",
     "text": [
      "                                        Category  Rating  Reviews    Size  \\\n",
      "App                                                                         \n",
      "Life Made WI-Fi Touchscreen Photo Frame      1.9    19.0      NaN  1,000+   \n",
      "\n",
      "                                         Installs Type  Price Content Rating  \\\n",
      "App                                                                            \n",
      "Life Made WI-Fi Touchscreen Photo Frame       NaN    0    NaN            NaN   \n",
      "\n",
      "                                            Genres Last Updated Current Ver  \\\n",
      "App                                                                           \n",
      "Life Made WI-Fi Touchscreen Photo Frame  11-Feb-18          NaN  4.0 and up   \n",
      "\n",
      "                                        Android Ver  \n",
      "App                                                  \n",
      "Life Made WI-Fi Touchscreen Photo Frame         NaN  \n"
     ]
    }
   ],
   "source": [
    "print(df[df['Category']=='1.9'])"
   ]
  },
  {
   "cell_type": "code",
   "execution_count": 16,
   "id": "8d4a2751",
   "metadata": {},
   "outputs": [],
   "source": [
    "df.drop(\"Life Made WI-Fi Touchscreen Photo Frame\",inplace=True)"
   ]
  },
  {
   "cell_type": "code",
   "execution_count": 17,
   "id": "fdc52ef6",
   "metadata": {},
   "outputs": [
    {
     "name": "stdout",
     "output_type": "stream",
     "text": [
      "['ART_AND_DESIGN' 'AUTO_AND_VEHICLES' 'BEAUTY' 'BOOKS_AND_REFERENCE'\n",
      " 'BUSINESS' 'COMICS' 'COMMUNICATION' 'DATING' 'EDUCATION' 'ENTERTAINMENT'\n",
      " 'EVENTS' 'FINANCE' 'FOOD_AND_DRINK' 'HEALTH_AND_FITNESS' 'HOUSE_AND_HOME'\n",
      " 'LIBRARIES_AND_DEMO' 'LIFESTYLE' 'GAME' 'FAMILY' 'MEDICAL' 'SOCIAL'\n",
      " 'SHOPPING' 'PHOTOGRAPHY' 'SPORTS' 'TRAVEL_AND_LOCAL' 'TOOLS'\n",
      " 'PERSONALIZATION' 'PRODUCTIVITY' 'PARENTING' 'WEATHER' 'VIDEO_PLAYERS'\n",
      " 'NEWS_AND_MAGAZINES' 'MAPS_AND_NAVIGATION']\n"
     ]
    }
   ],
   "source": [
    "#Ensure irrelevant values are removed\n",
    "print(df['Category'].unique())"
   ]
  },
  {
   "cell_type": "code",
   "execution_count": 18,
   "id": "6f3e58d6",
   "metadata": {},
   "outputs": [
    {
     "name": "stdout",
     "output_type": "stream",
     "text": [
      "[4.1 3.9 4.7 4.5 4.3 4.4 3.8 4.2 4.6 3.2 4.  nan 4.8 4.9 3.6 3.7 3.3 3.4\n",
      " 3.5 3.1 5.  2.6 3.  2.5 1.  1.9 2.9 2.8 2.3 2.2 1.7 2.  1.8 2.7 2.4 1.6\n",
      " 2.1 1.4 1.5 1.2]\n"
     ]
    }
   ],
   "source": [
    "print(df['Rating'].unique())"
   ]
  },
  {
   "cell_type": "code",
   "execution_count": 19,
   "id": "eef2751d",
   "metadata": {},
   "outputs": [],
   "source": [
    "# replacing null values in rating with 0\n",
    "df[\"Rating\"].fillna(0, inplace = True)"
   ]
  },
  {
   "cell_type": "code",
   "execution_count": 20,
   "id": "a4f0ff5e",
   "metadata": {},
   "outputs": [
    {
     "name": "stdout",
     "output_type": "stream",
     "text": [
      "[4.1 3.9 4.7 4.5 4.3 4.4 3.8 4.2 4.6 3.2 4.  0.  4.8 4.9 3.6 3.7 3.3 3.4\n",
      " 3.5 3.1 5.  2.6 3.  2.5 1.  1.9 2.9 2.8 2.3 2.2 1.7 2.  1.8 2.7 2.4 1.6\n",
      " 2.1 1.4 1.5 1.2]\n"
     ]
    }
   ],
   "source": [
    "print(df['Rating'].unique())"
   ]
  },
  {
   "cell_type": "code",
   "execution_count": 21,
   "id": "744972bc",
   "metadata": {},
   "outputs": [
    {
     "name": "stdout",
     "output_type": "stream",
     "text": [
      "[1.59000e+02 9.67000e+02 8.75100e+04 ... 6.03000e+02 1.19500e+03\n",
      " 3.98307e+05]\n"
     ]
    }
   ],
   "source": [
    "print(df['Reviews'].unique())"
   ]
  },
  {
   "cell_type": "code",
   "execution_count": 22,
   "id": "3746aea0",
   "metadata": {},
   "outputs": [
    {
     "data": {
      "text/html": [
       "<div>\n",
       "<style scoped>\n",
       "    .dataframe tbody tr th:only-of-type {\n",
       "        vertical-align: middle;\n",
       "    }\n",
       "\n",
       "    .dataframe tbody tr th {\n",
       "        vertical-align: top;\n",
       "    }\n",
       "\n",
       "    .dataframe thead th {\n",
       "        text-align: right;\n",
       "    }\n",
       "</style>\n",
       "<table border=\"1\" class=\"dataframe\">\n",
       "  <thead>\n",
       "    <tr style=\"text-align: right;\">\n",
       "      <th></th>\n",
       "      <th>Category</th>\n",
       "      <th>Rating</th>\n",
       "      <th>Reviews</th>\n",
       "      <th>Size</th>\n",
       "      <th>Installs</th>\n",
       "      <th>Type</th>\n",
       "      <th>Price</th>\n",
       "      <th>Content Rating</th>\n",
       "      <th>Genres</th>\n",
       "      <th>Last Updated</th>\n",
       "      <th>Current Ver</th>\n",
       "      <th>Android Ver</th>\n",
       "    </tr>\n",
       "    <tr>\n",
       "      <th>App</th>\n",
       "      <th></th>\n",
       "      <th></th>\n",
       "      <th></th>\n",
       "      <th></th>\n",
       "      <th></th>\n",
       "      <th></th>\n",
       "      <th></th>\n",
       "      <th></th>\n",
       "      <th></th>\n",
       "      <th></th>\n",
       "      <th></th>\n",
       "      <th></th>\n",
       "    </tr>\n",
       "  </thead>\n",
       "  <tbody>\n",
       "    <tr>\n",
       "      <th>Photo Editor &amp; Candy Camera &amp; Grid &amp; ScrapBook</th>\n",
       "      <td>ART_AND_DESIGN</td>\n",
       "      <td>4.1</td>\n",
       "      <td>159.0</td>\n",
       "      <td>19M</td>\n",
       "      <td>10000.0</td>\n",
       "      <td>Free</td>\n",
       "      <td>0.0</td>\n",
       "      <td>Everyone</td>\n",
       "      <td>Art &amp; Design</td>\n",
       "      <td>7/1/2018</td>\n",
       "      <td>1.0.0</td>\n",
       "      <td>4.0.3 and up</td>\n",
       "    </tr>\n",
       "    <tr>\n",
       "      <th>Coloring book moana</th>\n",
       "      <td>ART_AND_DESIGN</td>\n",
       "      <td>3.9</td>\n",
       "      <td>967.0</td>\n",
       "      <td>14M</td>\n",
       "      <td>500000.0</td>\n",
       "      <td>Free</td>\n",
       "      <td>0.0</td>\n",
       "      <td>Everyone</td>\n",
       "      <td>Art &amp; Design;Pretend Play</td>\n",
       "      <td>15-01-2018</td>\n",
       "      <td>2.0.0</td>\n",
       "      <td>4.0.3 and up</td>\n",
       "    </tr>\n",
       "    <tr>\n",
       "      <th>U Launcher Lite – FREE Live Cool Themes, Hide Apps</th>\n",
       "      <td>ART_AND_DESIGN</td>\n",
       "      <td>4.7</td>\n",
       "      <td>87510.0</td>\n",
       "      <td>8.7M</td>\n",
       "      <td>5000000.0</td>\n",
       "      <td>Free</td>\n",
       "      <td>0.0</td>\n",
       "      <td>Everyone</td>\n",
       "      <td>Art &amp; Design</td>\n",
       "      <td>1/8/2018</td>\n",
       "      <td>1.2.4</td>\n",
       "      <td>4.0.3 and up</td>\n",
       "    </tr>\n",
       "    <tr>\n",
       "      <th>Sketch - Draw &amp; Paint</th>\n",
       "      <td>ART_AND_DESIGN</td>\n",
       "      <td>4.5</td>\n",
       "      <td>215644.0</td>\n",
       "      <td>25M</td>\n",
       "      <td>50000000.0</td>\n",
       "      <td>Free</td>\n",
       "      <td>0.0</td>\n",
       "      <td>Teen</td>\n",
       "      <td>Art &amp; Design</td>\n",
       "      <td>8/6/2018</td>\n",
       "      <td>Varies with device</td>\n",
       "      <td>4.2 and up</td>\n",
       "    </tr>\n",
       "    <tr>\n",
       "      <th>Pixel Draw - Number Art Coloring Book</th>\n",
       "      <td>ART_AND_DESIGN</td>\n",
       "      <td>4.3</td>\n",
       "      <td>967.0</td>\n",
       "      <td>2.8M</td>\n",
       "      <td>100000.0</td>\n",
       "      <td>Free</td>\n",
       "      <td>0.0</td>\n",
       "      <td>Everyone</td>\n",
       "      <td>Art &amp; Design;Creativity</td>\n",
       "      <td>20-06-2018</td>\n",
       "      <td>1.1</td>\n",
       "      <td>4.4 and up</td>\n",
       "    </tr>\n",
       "    <tr>\n",
       "      <th>...</th>\n",
       "      <td>...</td>\n",
       "      <td>...</td>\n",
       "      <td>...</td>\n",
       "      <td>...</td>\n",
       "      <td>...</td>\n",
       "      <td>...</td>\n",
       "      <td>...</td>\n",
       "      <td>...</td>\n",
       "      <td>...</td>\n",
       "      <td>...</td>\n",
       "      <td>...</td>\n",
       "      <td>...</td>\n",
       "    </tr>\n",
       "    <tr>\n",
       "      <th>Sya9a Maroc - FR</th>\n",
       "      <td>FAMILY</td>\n",
       "      <td>4.5</td>\n",
       "      <td>38.0</td>\n",
       "      <td>53M</td>\n",
       "      <td>5000.0</td>\n",
       "      <td>Free</td>\n",
       "      <td>0.0</td>\n",
       "      <td>Everyone</td>\n",
       "      <td>Education</td>\n",
       "      <td>25-07-2017</td>\n",
       "      <td>1.48</td>\n",
       "      <td>4.1 and up</td>\n",
       "    </tr>\n",
       "    <tr>\n",
       "      <th>Fr. Mike Schmitz Audio Teachings</th>\n",
       "      <td>FAMILY</td>\n",
       "      <td>5.0</td>\n",
       "      <td>4.0</td>\n",
       "      <td>3.6M</td>\n",
       "      <td>100.0</td>\n",
       "      <td>Free</td>\n",
       "      <td>0.0</td>\n",
       "      <td>Everyone</td>\n",
       "      <td>Education</td>\n",
       "      <td>6/7/2018</td>\n",
       "      <td>1</td>\n",
       "      <td>4.1 and up</td>\n",
       "    </tr>\n",
       "    <tr>\n",
       "      <th>Parkinson Exercices FR</th>\n",
       "      <td>MEDICAL</td>\n",
       "      <td>0.0</td>\n",
       "      <td>3.0</td>\n",
       "      <td>9.5M</td>\n",
       "      <td>1000.0</td>\n",
       "      <td>Free</td>\n",
       "      <td>0.0</td>\n",
       "      <td>Everyone</td>\n",
       "      <td>Medical</td>\n",
       "      <td>20-01-2017</td>\n",
       "      <td>1</td>\n",
       "      <td>2.2 and up</td>\n",
       "    </tr>\n",
       "    <tr>\n",
       "      <th>The SCP Foundation DB fr nn5n</th>\n",
       "      <td>BOOKS_AND_REFERENCE</td>\n",
       "      <td>4.5</td>\n",
       "      <td>114.0</td>\n",
       "      <td>Varies with device</td>\n",
       "      <td>1000.0</td>\n",
       "      <td>Free</td>\n",
       "      <td>0.0</td>\n",
       "      <td>Mature 17+</td>\n",
       "      <td>Books &amp; Reference</td>\n",
       "      <td>19-01-2015</td>\n",
       "      <td>Varies with device</td>\n",
       "      <td>Varies with device</td>\n",
       "    </tr>\n",
       "    <tr>\n",
       "      <th>iHoroscope - 2018 Daily Horoscope &amp; Astrology</th>\n",
       "      <td>LIFESTYLE</td>\n",
       "      <td>4.5</td>\n",
       "      <td>398307.0</td>\n",
       "      <td>19M</td>\n",
       "      <td>10000000.0</td>\n",
       "      <td>Free</td>\n",
       "      <td>0.0</td>\n",
       "      <td>Everyone</td>\n",
       "      <td>Lifestyle</td>\n",
       "      <td>25-07-2018</td>\n",
       "      <td>Varies with device</td>\n",
       "      <td>Varies with device</td>\n",
       "    </tr>\n",
       "  </tbody>\n",
       "</table>\n",
       "<p>9929 rows × 12 columns</p>\n",
       "</div>"
      ],
      "text/plain": [
       "                                                               Category  \\\n",
       "App                                                                       \n",
       "Photo Editor & Candy Camera & Grid & ScrapBook           ART_AND_DESIGN   \n",
       "Coloring book moana                                      ART_AND_DESIGN   \n",
       "U Launcher Lite – FREE Live Cool Themes, Hide Apps       ART_AND_DESIGN   \n",
       "Sketch - Draw & Paint                                    ART_AND_DESIGN   \n",
       "Pixel Draw - Number Art Coloring Book                    ART_AND_DESIGN   \n",
       "...                                                                 ...   \n",
       "Sya9a Maroc - FR                                                 FAMILY   \n",
       "Fr. Mike Schmitz Audio Teachings                                 FAMILY   \n",
       "Parkinson Exercices FR                                          MEDICAL   \n",
       "The SCP Foundation DB fr nn5n                       BOOKS_AND_REFERENCE   \n",
       "iHoroscope - 2018 Daily Horoscope & Astrology                 LIFESTYLE   \n",
       "\n",
       "                                                    Rating   Reviews  \\\n",
       "App                                                                    \n",
       "Photo Editor & Candy Camera & Grid & ScrapBook         4.1     159.0   \n",
       "Coloring book moana                                    3.9     967.0   \n",
       "U Launcher Lite – FREE Live Cool Themes, Hide Apps     4.7   87510.0   \n",
       "Sketch - Draw & Paint                                  4.5  215644.0   \n",
       "Pixel Draw - Number Art Coloring Book                  4.3     967.0   \n",
       "...                                                    ...       ...   \n",
       "Sya9a Maroc - FR                                       4.5      38.0   \n",
       "Fr. Mike Schmitz Audio Teachings                       5.0       4.0   \n",
       "Parkinson Exercices FR                                 0.0       3.0   \n",
       "The SCP Foundation DB fr nn5n                          4.5     114.0   \n",
       "iHoroscope - 2018 Daily Horoscope & Astrology          4.5  398307.0   \n",
       "\n",
       "                                                                  Size  \\\n",
       "App                                                                      \n",
       "Photo Editor & Candy Camera & Grid & ScrapBook                     19M   \n",
       "Coloring book moana                                                14M   \n",
       "U Launcher Lite – FREE Live Cool Themes, Hide Apps                8.7M   \n",
       "Sketch - Draw & Paint                                              25M   \n",
       "Pixel Draw - Number Art Coloring Book                             2.8M   \n",
       "...                                                                ...   \n",
       "Sya9a Maroc - FR                                                   53M   \n",
       "Fr. Mike Schmitz Audio Teachings                                  3.6M   \n",
       "Parkinson Exercices FR                                            9.5M   \n",
       "The SCP Foundation DB fr nn5n                       Varies with device   \n",
       "iHoroscope - 2018 Daily Horoscope & Astrology                      19M   \n",
       "\n",
       "                                                      Installs  Type  Price  \\\n",
       "App                                                                           \n",
       "Photo Editor & Candy Camera & Grid & ScrapBook         10000.0  Free    0.0   \n",
       "Coloring book moana                                   500000.0  Free    0.0   \n",
       "U Launcher Lite – FREE Live Cool Themes, Hide Apps   5000000.0  Free    0.0   \n",
       "Sketch - Draw & Paint                               50000000.0  Free    0.0   \n",
       "Pixel Draw - Number Art Coloring Book                 100000.0  Free    0.0   \n",
       "...                                                        ...   ...    ...   \n",
       "Sya9a Maroc - FR                                        5000.0  Free    0.0   \n",
       "Fr. Mike Schmitz Audio Teachings                         100.0  Free    0.0   \n",
       "Parkinson Exercices FR                                  1000.0  Free    0.0   \n",
       "The SCP Foundation DB fr nn5n                           1000.0  Free    0.0   \n",
       "iHoroscope - 2018 Daily Horoscope & Astrology       10000000.0  Free    0.0   \n",
       "\n",
       "                                                   Content Rating  \\\n",
       "App                                                                 \n",
       "Photo Editor & Candy Camera & Grid & ScrapBook           Everyone   \n",
       "Coloring book moana                                      Everyone   \n",
       "U Launcher Lite – FREE Live Cool Themes, Hide Apps       Everyone   \n",
       "Sketch - Draw & Paint                                        Teen   \n",
       "Pixel Draw - Number Art Coloring Book                    Everyone   \n",
       "...                                                           ...   \n",
       "Sya9a Maroc - FR                                         Everyone   \n",
       "Fr. Mike Schmitz Audio Teachings                         Everyone   \n",
       "Parkinson Exercices FR                                   Everyone   \n",
       "The SCP Foundation DB fr nn5n                          Mature 17+   \n",
       "iHoroscope - 2018 Daily Horoscope & Astrology            Everyone   \n",
       "\n",
       "                                                                       Genres  \\\n",
       "App                                                                             \n",
       "Photo Editor & Candy Camera & Grid & ScrapBook                   Art & Design   \n",
       "Coloring book moana                                 Art & Design;Pretend Play   \n",
       "U Launcher Lite – FREE Live Cool Themes, Hide Apps               Art & Design   \n",
       "Sketch - Draw & Paint                                            Art & Design   \n",
       "Pixel Draw - Number Art Coloring Book                 Art & Design;Creativity   \n",
       "...                                                                       ...   \n",
       "Sya9a Maroc - FR                                                    Education   \n",
       "Fr. Mike Schmitz Audio Teachings                                    Education   \n",
       "Parkinson Exercices FR                                                Medical   \n",
       "The SCP Foundation DB fr nn5n                               Books & Reference   \n",
       "iHoroscope - 2018 Daily Horoscope & Astrology                       Lifestyle   \n",
       "\n",
       "                                                   Last Updated  \\\n",
       "App                                                               \n",
       "Photo Editor & Candy Camera & Grid & ScrapBook         7/1/2018   \n",
       "Coloring book moana                                  15-01-2018   \n",
       "U Launcher Lite – FREE Live Cool Themes, Hide Apps     1/8/2018   \n",
       "Sketch - Draw & Paint                                  8/6/2018   \n",
       "Pixel Draw - Number Art Coloring Book                20-06-2018   \n",
       "...                                                         ...   \n",
       "Sya9a Maroc - FR                                     25-07-2017   \n",
       "Fr. Mike Schmitz Audio Teachings                       6/7/2018   \n",
       "Parkinson Exercices FR                               20-01-2017   \n",
       "The SCP Foundation DB fr nn5n                        19-01-2015   \n",
       "iHoroscope - 2018 Daily Horoscope & Astrology        25-07-2018   \n",
       "\n",
       "                                                           Current Ver  \\\n",
       "App                                                                      \n",
       "Photo Editor & Candy Camera & Grid & ScrapBook                   1.0.0   \n",
       "Coloring book moana                                              2.0.0   \n",
       "U Launcher Lite – FREE Live Cool Themes, Hide Apps               1.2.4   \n",
       "Sketch - Draw & Paint                               Varies with device   \n",
       "Pixel Draw - Number Art Coloring Book                              1.1   \n",
       "...                                                                ...   \n",
       "Sya9a Maroc - FR                                                  1.48   \n",
       "Fr. Mike Schmitz Audio Teachings                                     1   \n",
       "Parkinson Exercices FR                                               1   \n",
       "The SCP Foundation DB fr nn5n                       Varies with device   \n",
       "iHoroscope - 2018 Daily Horoscope & Astrology       Varies with device   \n",
       "\n",
       "                                                           Android Ver  \n",
       "App                                                                     \n",
       "Photo Editor & Candy Camera & Grid & ScrapBook            4.0.3 and up  \n",
       "Coloring book moana                                       4.0.3 and up  \n",
       "U Launcher Lite – FREE Live Cool Themes, Hide Apps        4.0.3 and up  \n",
       "Sketch - Draw & Paint                                       4.2 and up  \n",
       "Pixel Draw - Number Art Coloring Book                       4.4 and up  \n",
       "...                                                                ...  \n",
       "Sya9a Maroc - FR                                            4.1 and up  \n",
       "Fr. Mike Schmitz Audio Teachings                            4.1 and up  \n",
       "Parkinson Exercices FR                                      2.2 and up  \n",
       "The SCP Foundation DB fr nn5n                       Varies with device  \n",
       "iHoroscope - 2018 Daily Horoscope & Astrology       Varies with device  \n",
       "\n",
       "[9929 rows x 12 columns]"
      ]
     },
     "execution_count": 22,
     "metadata": {},
     "output_type": "execute_result"
    }
   ],
   "source": [
    "# there is one blank value in reviews, so dropping it \n",
    "df.dropna(subset=['Reviews'])"
   ]
  },
  {
   "cell_type": "code",
   "execution_count": 23,
   "id": "0cd1a725",
   "metadata": {},
   "outputs": [
    {
     "data": {
      "text/html": [
       "<div>\n",
       "<style scoped>\n",
       "    .dataframe tbody tr th:only-of-type {\n",
       "        vertical-align: middle;\n",
       "    }\n",
       "\n",
       "    .dataframe tbody tr th {\n",
       "        vertical-align: top;\n",
       "    }\n",
       "\n",
       "    .dataframe thead th {\n",
       "        text-align: right;\n",
       "    }\n",
       "</style>\n",
       "<table border=\"1\" class=\"dataframe\">\n",
       "  <thead>\n",
       "    <tr style=\"text-align: right;\">\n",
       "      <th></th>\n",
       "      <th>Category</th>\n",
       "      <th>Rating</th>\n",
       "      <th>Reviews</th>\n",
       "      <th>Size</th>\n",
       "      <th>Installs</th>\n",
       "      <th>Type</th>\n",
       "      <th>Price</th>\n",
       "      <th>Content Rating</th>\n",
       "      <th>Genres</th>\n",
       "      <th>Last Updated</th>\n",
       "      <th>Current Ver</th>\n",
       "      <th>Android Ver</th>\n",
       "    </tr>\n",
       "    <tr>\n",
       "      <th>App</th>\n",
       "      <th></th>\n",
       "      <th></th>\n",
       "      <th></th>\n",
       "      <th></th>\n",
       "      <th></th>\n",
       "      <th></th>\n",
       "      <th></th>\n",
       "      <th></th>\n",
       "      <th></th>\n",
       "      <th></th>\n",
       "      <th></th>\n",
       "      <th></th>\n",
       "    </tr>\n",
       "  </thead>\n",
       "  <tbody>\n",
       "    <tr>\n",
       "      <th>Photo Editor &amp; Candy Camera &amp; Grid &amp; ScrapBook</th>\n",
       "      <td>ART_AND_DESIGN</td>\n",
       "      <td>4.1</td>\n",
       "      <td>159.0</td>\n",
       "      <td>19M</td>\n",
       "      <td>10000.0</td>\n",
       "      <td>Free</td>\n",
       "      <td>0.0</td>\n",
       "      <td>Everyone</td>\n",
       "      <td>Art &amp; Design</td>\n",
       "      <td>7/1/2018</td>\n",
       "      <td>1.0.0</td>\n",
       "      <td>4.0.3 and up</td>\n",
       "    </tr>\n",
       "    <tr>\n",
       "      <th>Coloring book moana</th>\n",
       "      <td>ART_AND_DESIGN</td>\n",
       "      <td>3.9</td>\n",
       "      <td>967.0</td>\n",
       "      <td>14M</td>\n",
       "      <td>500000.0</td>\n",
       "      <td>Free</td>\n",
       "      <td>0.0</td>\n",
       "      <td>Everyone</td>\n",
       "      <td>Art &amp; Design;Pretend Play</td>\n",
       "      <td>15-01-2018</td>\n",
       "      <td>2.0.0</td>\n",
       "      <td>4.0.3 and up</td>\n",
       "    </tr>\n",
       "    <tr>\n",
       "      <th>U Launcher Lite – FREE Live Cool Themes, Hide Apps</th>\n",
       "      <td>ART_AND_DESIGN</td>\n",
       "      <td>4.7</td>\n",
       "      <td>87510.0</td>\n",
       "      <td>8.7M</td>\n",
       "      <td>5000000.0</td>\n",
       "      <td>Free</td>\n",
       "      <td>0.0</td>\n",
       "      <td>Everyone</td>\n",
       "      <td>Art &amp; Design</td>\n",
       "      <td>1/8/2018</td>\n",
       "      <td>1.2.4</td>\n",
       "      <td>4.0.3 and up</td>\n",
       "    </tr>\n",
       "    <tr>\n",
       "      <th>Sketch - Draw &amp; Paint</th>\n",
       "      <td>ART_AND_DESIGN</td>\n",
       "      <td>4.5</td>\n",
       "      <td>215644.0</td>\n",
       "      <td>25M</td>\n",
       "      <td>50000000.0</td>\n",
       "      <td>Free</td>\n",
       "      <td>0.0</td>\n",
       "      <td>Teen</td>\n",
       "      <td>Art &amp; Design</td>\n",
       "      <td>8/6/2018</td>\n",
       "      <td>Varies with device</td>\n",
       "      <td>4.2 and up</td>\n",
       "    </tr>\n",
       "    <tr>\n",
       "      <th>Pixel Draw - Number Art Coloring Book</th>\n",
       "      <td>ART_AND_DESIGN</td>\n",
       "      <td>4.3</td>\n",
       "      <td>967.0</td>\n",
       "      <td>2.8M</td>\n",
       "      <td>100000.0</td>\n",
       "      <td>Free</td>\n",
       "      <td>0.0</td>\n",
       "      <td>Everyone</td>\n",
       "      <td>Art &amp; Design;Creativity</td>\n",
       "      <td>20-06-2018</td>\n",
       "      <td>1.1</td>\n",
       "      <td>4.4 and up</td>\n",
       "    </tr>\n",
       "  </tbody>\n",
       "</table>\n",
       "</div>"
      ],
      "text/plain": [
       "                                                          Category  Rating  \\\n",
       "App                                                                          \n",
       "Photo Editor & Candy Camera & Grid & ScrapBook      ART_AND_DESIGN     4.1   \n",
       "Coloring book moana                                 ART_AND_DESIGN     3.9   \n",
       "U Launcher Lite – FREE Live Cool Themes, Hide Apps  ART_AND_DESIGN     4.7   \n",
       "Sketch - Draw & Paint                               ART_AND_DESIGN     4.5   \n",
       "Pixel Draw - Number Art Coloring Book               ART_AND_DESIGN     4.3   \n",
       "\n",
       "                                                     Reviews  Size  \\\n",
       "App                                                                  \n",
       "Photo Editor & Candy Camera & Grid & ScrapBook         159.0   19M   \n",
       "Coloring book moana                                    967.0   14M   \n",
       "U Launcher Lite – FREE Live Cool Themes, Hide Apps   87510.0  8.7M   \n",
       "Sketch - Draw & Paint                               215644.0   25M   \n",
       "Pixel Draw - Number Art Coloring Book                  967.0  2.8M   \n",
       "\n",
       "                                                      Installs  Type  Price  \\\n",
       "App                                                                           \n",
       "Photo Editor & Candy Camera & Grid & ScrapBook         10000.0  Free    0.0   \n",
       "Coloring book moana                                   500000.0  Free    0.0   \n",
       "U Launcher Lite – FREE Live Cool Themes, Hide Apps   5000000.0  Free    0.0   \n",
       "Sketch - Draw & Paint                               50000000.0  Free    0.0   \n",
       "Pixel Draw - Number Art Coloring Book                 100000.0  Free    0.0   \n",
       "\n",
       "                                                   Content Rating  \\\n",
       "App                                                                 \n",
       "Photo Editor & Candy Camera & Grid & ScrapBook           Everyone   \n",
       "Coloring book moana                                      Everyone   \n",
       "U Launcher Lite – FREE Live Cool Themes, Hide Apps       Everyone   \n",
       "Sketch - Draw & Paint                                        Teen   \n",
       "Pixel Draw - Number Art Coloring Book                    Everyone   \n",
       "\n",
       "                                                                       Genres  \\\n",
       "App                                                                             \n",
       "Photo Editor & Candy Camera & Grid & ScrapBook                   Art & Design   \n",
       "Coloring book moana                                 Art & Design;Pretend Play   \n",
       "U Launcher Lite – FREE Live Cool Themes, Hide Apps               Art & Design   \n",
       "Sketch - Draw & Paint                                            Art & Design   \n",
       "Pixel Draw - Number Art Coloring Book                 Art & Design;Creativity   \n",
       "\n",
       "                                                   Last Updated  \\\n",
       "App                                                               \n",
       "Photo Editor & Candy Camera & Grid & ScrapBook         7/1/2018   \n",
       "Coloring book moana                                  15-01-2018   \n",
       "U Launcher Lite – FREE Live Cool Themes, Hide Apps     1/8/2018   \n",
       "Sketch - Draw & Paint                                  8/6/2018   \n",
       "Pixel Draw - Number Art Coloring Book                20-06-2018   \n",
       "\n",
       "                                                           Current Ver  \\\n",
       "App                                                                      \n",
       "Photo Editor & Candy Camera & Grid & ScrapBook                   1.0.0   \n",
       "Coloring book moana                                              2.0.0   \n",
       "U Launcher Lite – FREE Live Cool Themes, Hide Apps               1.2.4   \n",
       "Sketch - Draw & Paint                               Varies with device   \n",
       "Pixel Draw - Number Art Coloring Book                              1.1   \n",
       "\n",
       "                                                     Android Ver  \n",
       "App                                                               \n",
       "Photo Editor & Candy Camera & Grid & ScrapBook      4.0.3 and up  \n",
       "Coloring book moana                                 4.0.3 and up  \n",
       "U Launcher Lite – FREE Live Cool Themes, Hide Apps  4.0.3 and up  \n",
       "Sketch - Draw & Paint                                 4.2 and up  \n",
       "Pixel Draw - Number Art Coloring Book                 4.4 and up  "
      ]
     },
     "execution_count": 23,
     "metadata": {},
     "output_type": "execute_result"
    }
   ],
   "source": [
    "df.head()"
   ]
  },
  {
   "cell_type": "code",
   "execution_count": 24,
   "id": "f24e0d4b",
   "metadata": {},
   "outputs": [
    {
     "data": {
      "text/plain": [
       "(9929, 12)"
      ]
     },
     "execution_count": 24,
     "metadata": {},
     "output_type": "execute_result"
    }
   ],
   "source": [
    "# dataset has 9918 rows and 12 columns \n",
    "df.shape"
   ]
  },
  {
   "cell_type": "code",
   "execution_count": 25,
   "id": "e5f2965a",
   "metadata": {},
   "outputs": [
    {
     "name": "stdout",
     "output_type": "stream",
     "text": [
      "[1.59000e+02 9.67000e+02 8.75100e+04 ... 6.03000e+02 1.19500e+03\n",
      " 3.98307e+05]\n"
     ]
    }
   ],
   "source": [
    "print(df['Reviews'].unique())"
   ]
  },
  {
   "cell_type": "code",
   "execution_count": 26,
   "id": "58116b03",
   "metadata": {},
   "outputs": [
    {
     "data": {
      "text/plain": [
       "Category          0\n",
       "Rating            0\n",
       "Reviews           0\n",
       "Size              0\n",
       "Installs          0\n",
       "Type              1\n",
       "Price             0\n",
       "Content Rating    0\n",
       "Genres            0\n",
       "Last Updated      0\n",
       "Current Ver       8\n",
       "Android Ver       2\n",
       "dtype: int64"
      ]
     },
     "execution_count": 26,
     "metadata": {},
     "output_type": "execute_result"
    }
   ],
   "source": [
    "df.isna().sum()"
   ]
  },
  {
   "cell_type": "code",
   "execution_count": 27,
   "id": "f81a44a2",
   "metadata": {},
   "outputs": [
    {
     "name": "stdout",
     "output_type": "stream",
     "text": [
      "['Free' 'Paid' nan]\n"
     ]
    }
   ],
   "source": [
    "print(df['Type'].unique())"
   ]
  },
  {
   "cell_type": "code",
   "execution_count": 28,
   "id": "cd8899e6",
   "metadata": {},
   "outputs": [],
   "source": [
    "#Apps can be either free or paid, type cannot be blank, \n",
    "df.dropna(subset=['Type'],inplace=True)"
   ]
  },
  {
   "cell_type": "code",
   "execution_count": 29,
   "id": "383a91cc",
   "metadata": {},
   "outputs": [
    {
     "name": "stdout",
     "output_type": "stream",
     "text": [
      "['1.0.0' '2.0.0' '1.2.4' ... '1.0.612928' '0.3.4' '2.0.148.0']\n"
     ]
    }
   ],
   "source": [
    "print(df['Current Ver'].unique())"
   ]
  },
  {
   "cell_type": "code",
   "execution_count": 30,
   "id": "5fe9d800",
   "metadata": {},
   "outputs": [],
   "source": [
    "df[\"Current Ver\"].fillna(\"nan\", inplace = True)"
   ]
  },
  {
   "cell_type": "code",
   "execution_count": 31,
   "id": "efb93ddc",
   "metadata": {},
   "outputs": [
    {
     "name": "stdout",
     "output_type": "stream",
     "text": [
      "['4.0.3 and up' '4.2 and up' '4.4 and up' '2.3 and up' '3.0 and up'\n",
      " '4.1 and up' '4.0 and up' '2.3.3 and up' 'Varies with device'\n",
      " '2.2 and up' '5.0 and up' '6.0 and up' '1.6 and up' '1.5 and up'\n",
      " '2.1 and up' '7.0 and up' '5.1 and up' '4.3 and up' '4.0.3 - 7.1.1'\n",
      " '2.0 and up' '3.2 and up' '4.4W and up' '7.1 and up' '7.0 - 7.1.1'\n",
      " '8.0 and up' '5.0 - 8.0' '3.1 and up' '2.0.1 and up' '4.1 - 7.1.1' nan\n",
      " '5.0 - 6.0' '1.0 and up' '2.2 - 7.1.1' '5.0 - 7.1.1']\n"
     ]
    }
   ],
   "source": [
    "print(df['Android Ver'].unique())"
   ]
  },
  {
   "cell_type": "code",
   "execution_count": 32,
   "id": "658a2fd3",
   "metadata": {},
   "outputs": [],
   "source": [
    "#observation : For some apps, price is 0 ------> free apps "
   ]
  },
  {
   "cell_type": "code",
   "execution_count": 33,
   "id": "c27425f0",
   "metadata": {},
   "outputs": [],
   "source": [
    "#removing 1 blank value present in Android Ver \n",
    "df.dropna(subset=['Android Ver'],inplace=True)"
   ]
  },
  {
   "cell_type": "code",
   "execution_count": 34,
   "id": "db47da3a",
   "metadata": {},
   "outputs": [
    {
     "data": {
      "text/plain": [
       "Category          0\n",
       "Rating            0\n",
       "Reviews           0\n",
       "Size              0\n",
       "Installs          0\n",
       "Type              0\n",
       "Price             0\n",
       "Content Rating    0\n",
       "Genres            0\n",
       "Last Updated      0\n",
       "Current Ver       0\n",
       "Android Ver       0\n",
       "dtype: int64"
      ]
     },
     "execution_count": 34,
     "metadata": {},
     "output_type": "execute_result"
    }
   ],
   "source": [
    "df.isna().sum()"
   ]
  },
  {
   "cell_type": "code",
   "execution_count": 35,
   "id": "3f8ca6a5",
   "metadata": {},
   "outputs": [],
   "source": [
    "#changing the date format of Last updated column "
   ]
  },
  {
   "cell_type": "code",
   "execution_count": 36,
   "id": "1e92d31f",
   "metadata": {},
   "outputs": [],
   "source": [
    "df['Last Updated']= pd.to_datetime(df['Last Updated'])\n"
   ]
  },
  {
   "cell_type": "code",
   "execution_count": 37,
   "id": "3c36fc1a",
   "metadata": {},
   "outputs": [
    {
     "data": {
      "text/plain": [
       "(9926, 12)"
      ]
     },
     "execution_count": 37,
     "metadata": {},
     "output_type": "execute_result"
    }
   ],
   "source": [
    "df.shape"
   ]
  },
  {
   "cell_type": "code",
   "execution_count": 38,
   "id": "46e8a294",
   "metadata": {},
   "outputs": [],
   "source": [
    "df.to_csv(\"cleaned_apps_data_new.csv\")"
   ]
  },
  {
   "cell_type": "markdown",
   "id": "336d6c2f",
   "metadata": {},
   "source": [
    " This is the cleaned dataset for playstore apps dataset "
   ]
  },
  {
   "cell_type": "code",
   "execution_count": 39,
   "id": "c3f1aa49",
   "metadata": {},
   "outputs": [
    {
     "data": {
      "image/png": "[encoded data removed]",
      "text/plain": [
       "<Figure size 640x480 with 1 Axes>"
      ]
     },
     "metadata": {},
     "output_type": "display_data"
    }
   ],
   "source": [
    "import seaborn as sns\n",
    "import matplotlib.pyplot as plt\n",
    "# plot a boxplot of target variable to detect the outliers\n",
    "sns.boxplot(df['Rating'], color='maroon',orient=\"h\")\n",
    "\n",
    "# set plot label\n",
    "# set text size using 'fontsize'\n",
    "plt.title('Distribution of Target Variable (Rating)', fontsize = 15)\n",
    "\n",
    "# display the plot\n",
    "plt.show()"
   ]
  },
  {
   "cell_type": "code",
   "execution_count": 40,
   "id": "3f337e45",
   "metadata": {},
   "outputs": [
    {
     "data": {
      "image/png": "[encoded data removed]",
      "text/plain": [
       "<Figure size 640x480 with 6 Axes>"
      ]
     },
     "metadata": {},
     "output_type": "display_data"
    }
   ],
   "source": [
    "# plot the histogram of numeric variables\n",
    "# hist() by default considers the numeric variables only, \n",
    "# rotate the x-axis labels by 20 degree using the parameter, 'xrot'\n",
    "df.hist(xrot = 20, color = \"maroon\")\n",
    "\n",
    "# adjust the subplots\n",
    "plt.tight_layout()\n",
    "\n",
    "# display the plot\n",
    "plt.show()  "
   ]
  },
  {
   "cell_type": "code",
   "execution_count": null,
   "id": "c98bcf65",
   "metadata": {},
   "outputs": [],
   "source": []
  },
  {
   "cell_type": "code",
   "execution_count": null,
   "id": "ad75fba7",
   "metadata": {},
   "outputs": [],
   "source": []
  }
 ],
 "metadata": {
  "kernelspec": {
   "display_name": "Python 3 (ipykernel)",
   "language": "python",
   "name": "python3"
  },
  "language_info": {
   "codemirror_mode": {
    "name": "ipython",
    "version": 3
   },
   "file_extension": ".py",
   "mimetype": "text/x-python",
   "name": "python",
   "nbconvert_exporter": "python",
   "pygments_lexer": "ipython3",
   "version": "3.7.15"
  }
 },
 "nbformat": 4,
 "nbformat_minor": 5
}
